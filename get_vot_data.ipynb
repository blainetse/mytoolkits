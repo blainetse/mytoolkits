{
  "cells": [
    {
      "cell_type": "markdown",
      "metadata": {},
      "source": [
        "参考链接：https://zhuanlan.zhihu.com/p/369531344\n",
        "\n",
        "文件操作：https://blog.csdn.net/Baozijiaruqing/article/details/103900387"
      ]
    },
    {
      "cell_type": "markdown",
      "metadata": {},
      "source": [
        "关于 `VOT` 数据集下载，直接看官方源码：https://github.com/votchallenge/toolkit\n",
        "\n",
        "下载链接：https://data.votchallenge.net/vot2019/longterm/description.json"
      ]
    },
    {
      "cell_type": "markdown",
      "metadata": {},
      "source": [
        "`VOT` 数据集格式：\n",
        "    vot[lt]year\n",
        "        - sequences\n",
        "            - airplane\n",
        "                - color\n",
        "                    - ....jpge\n",
        "                    - ...\n",
        "                - groundtruth.txt\n",
        "            - ...\n",
        "        - list.txt\n",
        "        - [description.json]\n",
        "        - [vot[lt]yesr.json]"
      ]
    },
    {
      "cell_type": "code",
      "execution_count": 2,
      "metadata": {},
      "outputs": [],
      "source": [
        "# !pip freeze > requirements.txt"
      ]
    },
    {
      "cell_type": "code",
      "execution_count": 3,
      "metadata": {},
      "outputs": [],
      "source": [
        "# !pip install requests pandas\n",
        "# !pip install -U \"urllib3<1.25\""
      ]
    },
    {
      "cell_type": "code",
      "execution_count": 4,
      "metadata": {},
      "outputs": [
        {
          "name": "stdout",
          "output_type": "stream",
          "text": [
            "airplane: https://data.votchallenge.net/sequences/1cf8144aa501dcea5bf4c3544ad01bbe96be6104673eabf8125527c3799a54ae14f30c319cf7c9aa4783a86e333d347c832c707884c96eded13e1e6436ec41d7.zip\n",
            "bag: https://data.votchallenge.net/sequences/f37b8361c0176a0ab2a32ff0bbfa0fed7a484fbb8413845a65d8b691829083fb6b6d59fcf58a913b9d62cae4201ec7b4ce4dce885a949cfed6259713e88a9fcd.zip\n",
            "bicycle: https://data.votchallenge.net/sequences/3d1e800921a947f878361e41c5070a8098eb46612ecbd9a60553a9fff810a507ad47ff19361b4614c80921553514ed2783791d27ed139358294fe5c23160a85e.zip\n",
            "boat: https://data.votchallenge.net/sequences/c1336aea986ea72ac865fa10e60fa34f1413160c355279e2e9639ed4b1d3331a9f916510cd642389789e9f39381c24f9400b968e3056f807ad209957e8cd7b25.zip\n",
            "bottle: https://data.votchallenge.net/sequences/fc789080bc20cbeefc20fb31bb6c1075b63d6acb28d793ce6a8ea56e24f522291afa2030a767a6ec3e44cd33a4cea57442e77d55ca6214555af3cd946140c556.zip\n",
            "bus: https://data.votchallenge.net/sequences/f13b2b257b5b9616b85203be7f4441900f9d4696fb31ef5e3ee8e826c73cd6ca0ebd1c1595cb3cde3cf4bce268a3a8f2a719a1d1c23d579f6a8f19df4ee961f2.zip\n",
            "car: https://data.votchallenge.net/sequences/e25394407b042d8177fe7e77e37387ce0328ea47b5422bc07d7e936ff5cada5539883d513af6f60986e3dde6a65c8db36998dccb9dd2b822ba695db1f520a2d8.zip\n",
            "carchase: https://data.votchallenge.net/sequences/bca53f7e9ff6f3883d8a38f82551cf06baeca50575bf7750f7bc801d2d15ffa60c0c8ff796e2a7c0844153c6c95904bfdba93ec870e3ff43630b2a4c3a77b471.zip\n",
            "cat: https://data.votchallenge.net/sequences/f00b789872f351831af63bcfe2662ddba14523e367df59ccdf19320fe7f44f2626c74d3a37ad7b7208080364074dda258c129badb95c07f57b7b5b7938da20ee.zip\n",
            "coin: https://data.votchallenge.net/sequences/9d07d699d7ec297798e7ec566d30ee5bf7781558a475149c6db81c4674ccb37dbe08ed53baa5d7ea39ac12042ff6e344eb188d4a8386dcef193eb132383b2c2f.zip\n",
            "dancingshoe: https://data.votchallenge.net/sequences/d4fb49c24dd723956ed99121d134b4a5690dc9cda184bf4509b29615c54734fda48acb98b49fc3a3b1d112091904baf4a0e6be32269ca6a504e0b51929395157.zip\n",
            "diabolo: https://data.votchallenge.net/sequences/6b159c082d0e87f312a93af96c590a92a2ec66f4609eb871cca4d37f1f70bd03a94bb6c6a3e3bbbc278b23896b2041f72161210938924a6560e8f2b88179d181.zip\n",
            "diving: https://data.votchallenge.net/sequences/f9ce9763c51193c42cc253c24e2b0a5d3ff47483dcef588cb11f1c6a23f5270437df1251a1b4184f2b079f3cc6f9380af884544bc0fd2b399a6470e86f6453d7.zip\n",
            "dog1: https://data.votchallenge.net/sequences/765da5b891a4bc7bf60346b8a590b69c1de922cb6161a90ad7756c56e258783d9bde9fc69e8200ee535cb0ca6efcaae75e3a456232db0e882542a721bbd66992.zip\n",
            "dog2: https://data.votchallenge.net/sequences/f232bd4c89f203f4b19bdc73677d04782ebfaaf913f292b1761c6ae67d8417354f49aa5cad568eca912bb948aa1d76fa56096940337c131afcf772486370e946.zip\n",
            "drone: https://data.votchallenge.net/sequences/91398178a111e231da50ddec56e857ed85ba6ee2387787a7331c7040ff93687049b93d953e1e60fa712cce0e419cbfadfbae826a7739f7c651ae6c2168372289.zip\n",
            "duck: https://data.votchallenge.net/sequences/6ceb27e0f4f0949f3a229457f1e1e63d6c10bc6e413eeee54a0b8ad1e13011f57bdab2b9b83c87a76297eac3fa8bfa638472dd6db40d488a48e0595ced961652.zip\n",
            "elephant: https://data.votchallenge.net/sequences/5fd77b13865e0e965ce4ccd3c9b9c5e1e9cc6038fe8e8b9d19827b90a8558bcc1fce56638531e5592117dbc9d9883efc465c28318211b91fe380f88611686153.zip\n",
            "f1: https://data.votchallenge.net/sequences/d4f37e3eca18a567f0f51c0856d390b58dd85b820c9c8e607d316910f4d5f07ac0037b5ccfc09bbe78d889ec149650c7336f936a6ff4303736aef53097a660e6.zip\n",
            "flag: https://data.votchallenge.net/sequences/a2f7cfaf040a7e9f97248e2317ba0010b28b4c630086cf90274464217ed8d46bdc313dd0fd7565d4659a8147f3e1c3b33690636c83d6f9a8ee9748acda63fe31.zip\n",
            "flyboard: https://data.votchallenge.net/sequences/40cab217190c1fdd0af3ecd442ca9f45cfc8428e3d1dc028d6708b90daa74797bdd5e2984c86fc364c6583b3d061a4a486e9f15cb31a0353cbc7bcb44338dbed.zip\n",
            "fox: https://data.votchallenge.net/sequences/610720950141732fb3852ae0cbab93e5dda93ce127b656fb5387b5f23942488cdde49c4bc275a8594985a03dcbac218668e83d2cd2002d357a2d466384bbd95c.zip\n",
            "goldfish: https://data.votchallenge.net/sequences/70879ec45cdb97004ccfd536d0ad37b3f15f86d0130f8b9d659659cf7e962b39f08fabbf248bc17fbf79a405a63d6386777240ff6ead87b3393db461b654a193.zip\n",
            "guineapig: https://data.votchallenge.net/sequences/3b7e535a0cc86f08a8631c154a9e7b4ab6d102dc75d0cbe07dca24e2c10cb63e46d40db2611467db06202f9d0d2d56935d1a5516b12f5b4a95a32ba073295f40.zip\n",
            "hand: https://data.votchallenge.net/sequences/607b57a78a42fbf4265bb060bbd1c3d5ee69720729e10eaacaa917d931b40fa50c1d6af6cef2f63370173dd58f618ce2b2dad29f6bd9b297766c1650b47f352e.zip\n",
            "helicopter: https://data.votchallenge.net/sequences/d872ca3abf38b8c7372a67928fe76ef4606c442ef64f72ba81494c06c59c3b9a4e83e0f3654d2e616464577c769dec0729f21506dc5b245d8a7b09c30d648553.zip\n",
            "houseride: https://data.votchallenge.net/sequences/046b7547c3ad79f25788a722a0ef65fb71638ea40a9cc7f5529fdeddf9e2d49b41d35fe6a8f9ac78da1c09970bb12a596c9641f810fa94b3ad0c8ba186c2e03b.zip\n",
            "kangaroo: https://data.votchallenge.net/sequences/a47a7615f0573e90a1df31acb8f17ef06e6c34819b42a28f1b860d361247d16eecb5587c45b31746689c19674d1971e25193ec987f73e5b5e1c4db2b706a7987.zip\n",
            "kit: https://data.votchallenge.net/sequences/3b9f7107bd50179cf84c24c9c0b54d0d4b7fdba50d7bcc027444b4169343b6c9692cd2adb9f28b873b8cd265745031f26daba5f0ce736c876b779d7883364597.zip\n",
            "lantern: https://data.votchallenge.net/sequences/6a96f66f19a714911437d0eaa0250d2c243149e1a9339684b2388d3e10edbdda2518137e36fb803c7dbe6a46b058dbc3569393efaa155da1b63a1842ee595871.zip\n",
            "licenseplate: https://data.votchallenge.net/sequences/af1be18f8682fffc5956f47454db30e030c75e11126fc23229291cddbc4137587b9e22edcbed86e16e46bd15fc41cbd1373cb7134a0564868ad3da45bccb5b7c.zip\n",
            "motorcycle: https://data.votchallenge.net/sequences/47398e9818d1a99723ceeebd09e28a6175d98efeffb648afc134d3b1aa0f15c41ca091d2fb9a910f3cef26f9bb9714f9b0ea653005233b5002ffb8fd6b2b510e.zip\n",
            "panda: https://data.votchallenge.net/sequences/182f5a68f8681c069372f09ba14ac89a1492d82c29eeb743bd8792a4e6cbc68965f7662ba7b8a245f0dd64ac569a3c1e48672693fe52c7f7f69c20c05bcd073a.zip\n",
            "parachute: https://data.votchallenge.net/sequences/621ea12010daec861af87d32a990cf6432c7fe48dbf3c5794cfbc9dd963c0374ff6abb64dd45b2091124e0cbeb5cbb664f4c98851ee58a58a98b3d8bc6632b1a.zip\n",
            "parkour: https://data.votchallenge.net/sequences/f573ccd6f56f97cec45451d3c991c5d07742558f086b482be4edc51d59877167b3ccf0a3d91a58224b392d2114cb9e03d757e84222405125279901ca3a78e0fb.zip\n",
            "parrot: https://data.votchallenge.net/sequences/bbfc6ff4ffeafc018846db8521e1605f510f434b943b09c0db9cbd65fba03ca1f5fad9fc11b6f774a4d1b21521ddb216acc9e13241293a942be6972948b05b74.zip\n",
            "rabbit: https://data.votchallenge.net/sequences/935c47545615053272f9904b086e73df39d576939d38d603e5055248b6906147b2e932b1e8e94271f28411cc0a3f9df52e2bfd9eda9ff79bc564bfae9cfb7325.zip\n",
            "rhino: https://data.votchallenge.net/sequences/f18278f8691d27b0575617085ffafa07b6952b8ab3aea2e42b788c97937ff9ad89630c2ed07975ca2e1d6a0883ac39002b068a744dbad1706e347446b24728f9.zip\n",
            "robot: https://data.votchallenge.net/sequences/5037bc7386fef19911270b85ca2c7837e0d62769147d06965997989d2f7acbe238d9c2a9b77505e6c877d1f93e8ac1898a03eeece3c642e3e7fd168a8f2fc132.zip\n",
            "rollerman: https://data.votchallenge.net/sequences/eaa170e698d0945a1d9e7775a20b42d194f28097a3d0cbe73762ea90865c2d6b869e5d40accbb1173015e669799afc989348378e37968a406881d90063401373.zip\n",
            "run: https://data.votchallenge.net/sequences/e4117a5e675e15b979d043fc766ace0b8b9514621f2811ab0464b511a23b71c0d7e2a800526f5167a0bd36cf7bc61a486b56fb051d0c89870753bf5a7cd8807d.zip\n",
            "sailing: https://data.votchallenge.net/sequences/4fe3c574b0ac4a1e6c6a4283081f34299d4cf6c218cf6d3e4befd3f4cb7e8e0eeadd521f9bb903e70d8de91e8a6119fe0cf16641a1d6689bccef2bd1b01dde6d.zip\n",
            "seagull: https://data.votchallenge.net/sequences/28a93c248e9bc67b9787d0c50b94352af2e2142b0de65d4b57f61a858c7d3cd61c9b765243a17a5cb34a3bada6af918eee408324eceb255f0758013e1222ad60.zip\n",
            "shark: https://data.votchallenge.net/sequences/29b2cfe1264e8678782a695577bbb0c0ba91d94646a6a0f763c0375a7d5a1ff927794efe8aa89fe72abba8f940f3424d284fbaf772f0d3eb26e0159b235dc696.zip\n",
            "skiing: https://data.votchallenge.net/sequences/7e01bac9dfbb995765d84b807f30b1f54d0d329644ffff79a37faba834015a9aa021ea7f758e8dc304a38dea755c4684b7f45f7c8c1070d1b4f860a01e2fa454.zip\n",
            "squirrel: https://data.votchallenge.net/sequences/824551a473dedfc9da33dff11ba12aa39242c921e5065144927efa3745ae73616962318b32ae9916131735b6b71a67332f5acecf97570942c1250320294c5cdd.zip\n",
            "surfing: https://data.votchallenge.net/sequences/34e2b3a553790aa70b183b2955b1b7c3e200e762b1e2af0409004cc661f63fd9e32fc733029f64be7291782786798eda51067a9876ee61bcaefd644199531578.zip\n",
            "turkey: https://data.votchallenge.net/sequences/923bc2f94e868ad465c16716de10ec459e2cd79c6e917328ab44dfb9ac319a937d0061af33e4ff499deec733c09e9b950f8198de5726fb89975de1de28b0c25b.zip\n",
            "volleyball: https://data.votchallenge.net/sequences/bdd0ea0737bc1c451b67df990f17fd3cb79f667bad6326d01963dad07566732a0507eb9bc15495066b33a727b79a8ed64718b25e12533f842a6d8fa0c55b52b8.zip\n",
            "zebra: https://data.votchallenge.net/sequences/0db8bc1da6a8b1aa8f44e4bab28ecf523f2d61a33422d932ccf1cb19babbfca4eff4b179386e633b0ad011deb455db95b7764ba652866abf6e463da0a63790a5.zip\n"
          ]
        }
      ],
      "source": [
        "import os\n",
        "import requests\n",
        "from urllib.parse import urlparse, urljoin\n",
        "\n",
        "VOT_DATASETS = {\n",
        "    \"vot2013\": \"http://data.votchallenge.net/vot2013/dataset/description.json\",\n",
        "    \"vot2014\": \"http://data.votchallenge.net/vot2014/dataset/description.json\",\n",
        "    \"vot2015\": \"http://data.votchallenge.net/vot2015/dataset/description.json\",\n",
        "    \"vot-tir2015\": \"http://www.cvl.isy.liu.se/research/datasets/ltir/version1.0/ltir_v1_0_8bit.zip\",\n",
        "    \"vot2016\": \"http://data.votchallenge.net/vot2016/main/description.json\",\n",
        "    \"vot-tir2016\": \"http://data.votchallenge.net/vot2016/vot-tir2016.zip\",\n",
        "    \"vot2017\": \"http://data.votchallenge.net/vot2017/main/description.json\",\n",
        "    \"vot-st2018\": \"http://data.votchallenge.net/vot2018/main/description.json\",\n",
        "    \"vot-lt2018\": \"http://data.votchallenge.net/vot2018/longterm/description.json\",\n",
        "    \"vot-st2019\": \"http://data.votchallenge.net/vot2019/main/description.json\",\n",
        "    \"vot-lt2019\": \"http://data.votchallenge.net/vot2019/longterm/description.json\",\n",
        "    \"vot-rgbd2019\": \"http://data.votchallenge.net/vot2019/rgbd/description.json\",\n",
        "    \"vot-rgbt2019\": \"http://data.votchallenge.net/vot2019/rgbtir/meta/description.json\",\n",
        "    \"vot-st2020\": \"https://data.votchallenge.net/vot2020/shortterm/description.json\",\n",
        "    \"vot-rgbt2020\": \"http://data.votchallenge.net/vot2020/rgbtir/meta/description.json\",\n",
        "    \"vot-st2021\": \"https://data.votchallenge.net/vot2021/shortterm/description.json\",\n",
        "    \"vot-lt2022\": \"https://data.votchallenge.net/vot2022/lt/description.json\",\n",
        "    \"test\": \"http://data.votchallenge.net/toolkit/test.zip\",\n",
        "    \"segmentation\": \"http://box.vicos.si/tracking/vot20_test_dataset.zip\",\n",
        "}\n",
        "stack = \"vot-lt2022\"\n",
        "url = VOT_DATASETS[stack]\n",
        "base_url = url.rsplit(\"/\", 1)[0] + \"/\"\n",
        "try:\n",
        "    meta = requests.get(url).json()\n",
        "except requests.exceptions.RequestException as e:\n",
        "    raise Exception(\"Unable to read JSON file {}\".format(e))\n",
        "\n",
        "color_url = []\n",
        "groundtruth_url = []\n",
        "fnames = []\n",
        "for sequence in meta[\"sequences\"]:\n",
        "    # get data name\n",
        "    fnames.append(sequence[\"name\"])\n",
        "\n",
        "    # get groundtruth zip file\n",
        "    url = sequence[\"annotations\"][\"url\"]\n",
        "    if bool(urlparse(url).netloc):\n",
        "        gt_url = url\n",
        "    else:\n",
        "        gt_url = urljoin(base_url, url)\n",
        "\n",
        "    # get pic zip file\n",
        "    url = sequence[\"channels\"][\"color\"][\"url\"]\n",
        "    if bool(urlparse(url).netloc):\n",
        "        pic_url = url\n",
        "    else:\n",
        "        pic_url = urljoin(base_url, url)\n",
        "\n",
        "    color_url.append(pic_url)\n",
        "    groundtruth_url.append(gt_url)\n",
        "\n",
        "for fname, link in zip(fnames, color_url):\n",
        "    print(f\"{fname}: {link}\")\n"
      ]
    },
    {
      "cell_type": "code",
      "execution_count": 3,
      "metadata": {},
      "outputs": [],
      "source": [
        "# 将数据写入 csv 文件\n",
        "import csv\n",
        "import os\n",
        "import re\n",
        "\n",
        "import pandas as pd\n",
        "\n",
        "\n",
        "# 方法一：使用 csv 自带的接口，适合每行长度不一定全相等的情况\n",
        "def write2csv1(csvfile, fnames, urls):\n",
        "    if os.path.exists(csvfile):\n",
        "        print(f\"deleting {csvfile}...\")\n",
        "        os.remove(csvfile)\n",
        "\n",
        "    with open(csvfile, \"a+\") as csvfile:\n",
        "        writer = csv.writer(csvfile)\n",
        "        # 1.写入 columns names\n",
        "        writer.writerow([\"文件名\", \"下载链接\"])\n",
        "        \n",
        "        for fname, url in zip(fnames, urls):\n",
        "            # 2.一行一行写入文件\n",
        "            # print(f\"正在将{fname}: {url} 写入到{csvfile}...\\n\")\n",
        "            writer.writerow([fname, url])\n",
        "\n",
        "# 方法二：使用 pandas\n",
        "def write2csv2(csvfile, fnames, urls):\n",
        "    if os.path.exists(csvfile):\n",
        "        print(f\"deleting {csvfile}...\")\n",
        "        os.remove(csvfile)\n",
        "    \n",
        "    # 1.创建一个 DataFrame 作为一行写入，以键值对——字典的形式存储\n",
        "    df = pd.DataFrame({\"文件名\": fnames, \"下载链接\": urls})\n",
        "    # 2.将 DataFrame 存储为 csv 文件，index 表示是否显示行名称（可以是数字，也可以是自定义的字符串）default=True\n",
        "    df.to_csv(csvfile, index=False, sep=\",\")\n"
      ]
    },
    {
      "cell_type": "code",
      "execution_count": 4,
      "metadata": {},
      "outputs": [
        {
          "name": "stdout",
          "output_type": "stream",
          "text": [
            "deleting votlt2022_color.csv...\n",
            "deleting votlt2022_gt.csv...\n"
          ]
        }
      ],
      "source": [
        "version = re.sub(\"[^0-9]\", \"\", stack)\n",
        "csvfile = {\n",
        "    \"color\": \"votlt\" + version + \"_color.csv\",\n",
        "    \"gt\": \"votlt\" + version + \"_gt.csv\",\n",
        "}\n",
        "\n",
        "\n",
        "def run_writer():\n",
        "    write2csv1(csvfile[\"color\"], fnames, color_url)\n",
        "    write2csv1(csvfile[\"gt\"], fnames, groundtruth_url)\n",
        "\n",
        "\n",
        "run_writer()\n"
      ]
    },
    {
      "cell_type": "markdown",
      "metadata": {},
      "source": []
    },
    {
      "cell_type": "code",
      "execution_count": 5,
      "metadata": {},
      "outputs": [],
      "source": [
        "import pandas as pd\n",
        "import time\n",
        "\n",
        "import requests, os\n",
        "from tqdm import tqdm\n",
        "\n",
        "# 屏蔽warning信息\n",
        "requests.packages.urllib3.disable_warnings()\n",
        "# 构建自己的代理 IP 池\n",
        "proxies = {\n",
        "    # 这里修改为自己的代理端口号，可在代理软件中进行查看更改，clash 默认是7890\n",
        "    \"http\": \"http://127.0.0.1:7890\",\n",
        "    \"https\": \"http://127.0.0.1:7890\",\n",
        "}\n",
        "# response = requests.get(url, proxies=proxies)\n",
        "headers = {\n",
        "    \"User-Agent\": \"Mozilla/5.0 (Windows NT 10.0; Win64; x64) AppleWebKit/537.36 (KHTML, like Gecko) Chrome/100.0.4896.75 Safari/537.36\",\n",
        "}\n",
        "# 这里根据自己的需求进行更改\n",
        "# use_proxy = True\n",
        "use_proxy = False\n",
        "proxies = proxies if use_proxy else \"\"\n",
        "\n",
        "## 初级版：最原始的下载方法\n",
        "def download_v0(url, folder_path, fname):\n",
        "    fname = os.path.join(folder_path, f\"{fname}.zip\")\n",
        "\n",
        "    if not os.path.exists(folder_path):\n",
        "        os.makedirs(folder_path)  # 创建存放每一个图片集的单独文件夹\n",
        "\n",
        "    # if not os.path.exists(fname):\n",
        "    if not os.path.isfile(fname):\n",
        "        response = requests.get(url, stream=True, proxies=proxies, headers=headers)\n",
        "        with open(fname, \"wb\") as code:\n",
        "            for chunk in response.iter_content(chunk_size=1024 * 32):  # 边下载边存硬盘\n",
        "                if chunk:\n",
        "                    code.write(chunk)\n",
        "            time.sleep(0.1)\n",
        "    else:\n",
        "        print(f\"{fname.title()} exists and have totaly been downloaded!\")\n",
        "\n",
        "\n",
        "## 进阶版：使用 tqdm 显示下载进度\n",
        "def download_v1(url, folder_path, fname):\n",
        "    fname = os.path.join(folder_path, f\"{fname}.zip\")\n",
        "\n",
        "    if not os.path.exists(folder_path):\n",
        "        os.makedirs(folder_path)  # 创建存放每一个图片集的单独文件夹\n",
        "\n",
        "    ############# 断点续传实现 ##################\n",
        "    # 第一次请求是为了得到文件总大小\n",
        "    response = requests.get(url, stream=True, verify=False, proxies=proxies)\n",
        "    total_size = int(response.headers[\"Content-Length\"])\n",
        "\n",
        "    # 文件是否已经存在\n",
        "    if os.path.isfile(fname):\n",
        "        temp_size = os.path.getsize(fname)  # 本地已经下载的文件大小\n",
        "        if temp_size >= total_size:\n",
        "            print(\n",
        "                # 注意双引号中不能包括双引号！！！只能使用外面双引号，内部单引号\n",
        "                f\"{fname.split('/')[-2] + '.zip'} exists and have totaly been downloaded!\"\n",
        "            )\n",
        "            return\n",
        "    else:\n",
        "        temp_size = 0\n",
        "\n",
        "    # 显示一下下载了多少\n",
        "    print(\n",
        "        f\"{fname.split('/')[-2] + '.zip'} downloaded: {temp_size/(1024*1024):.2f}MB || Total size: {total_size/(1024*1024):.2f}MB || Remaining download rate {1 - temp_size/total_size:.2f}\"\n",
        "    )\n",
        "    # 核心部分，这个是请求下载时，从本地文件已经下载过的后面下载\n",
        "    # headers = {'Range': 'bytes=%d-' % temp_size}\n",
        "    headers = {\n",
        "        \"Range\": f\"bytes={temp_size}-{total_size}\",\n",
        "        \"User-Agent\": \"Mozilla/5.0 (Windows NT 10.0; Win64; x64) AppleWebKit/537.36 (KHTML, like Gecko) Chrome/100.0.4896.75 Safari/537.36\",\n",
        "    }\n",
        "    # 重新请求网址，加入新的请求头的\n",
        "    response = requests.get(\n",
        "        url, stream=True, verify=False, headers=headers, proxies=proxies\n",
        "    )\n",
        "    ############################################\n",
        "\n",
        "    with tqdm.wrapattr(\n",
        "        open(fname, \"ab\"),  # 以 ab 追加的形式写入！！！\n",
        "        \"write\",\n",
        "        miniters=1,\n",
        "        # desc=url.split(\"/\")[-1],\n",
        "        desc=fname.split(\"/\")[-2] + \".zip\",\n",
        "        total=int(response.headers.get(\"content-length\", 0)),\n",
        "    ) as fout:\n",
        "        for chunk in response.iter_content(chunk_size=4096):\n",
        "            if chunk:\n",
        "                temp_size += len(chunk)\n",
        "                fout.write(chunk)\n",
        "                fout.flush()\n"
      ]
    },
    {
      "cell_type": "markdown",
      "metadata": {},
      "source": [
        "需要注意一点的就是代理池的设置，代理软件不同，端口号不同，根据个人实际情况进行修改！\n",
        "\n",
        "使用连接池可以使得下载更加稳定，并且断线的风险比较小，当然，本项目中使用了断点续传的技术，断线后也不会重新下载，只会下载未下载的部分。"
      ]
    },
    {
      "cell_type": "markdown",
      "metadata": {},
      "source": [
        "断点续传参考链接：\n",
        "- https://blog.csdn.net/qq_35203425/article/details/80987880\n",
        "- https://blog.csdn.net/thewindkee/article/details/80189434\n",
        "- https://huyi-aliang.blog.csdn.net/article/details/120926552?spm=1001.2101.3001.6650.1&utm_medium=distribute.pc_relevant.none-task-blog-2%7Edefault%7ECTRLIST%7ERate-1.pc_relevant_paycolumn_v3&depth_1-utm_source=distribute.pc_relevant.none-task-blog-2%7Edefault%7ECTRLIST%7ERate-1.pc_relevant_paycolumn_v3&utm_relevant_index=2 这篇比较准确"
      ]
    },
    {
      "cell_type": "code",
      "execution_count": null,
      "metadata": {},
      "outputs": [],
      "source": [
        "root = r\"./VOT2022_LT/sequences\"\n",
        "\n",
        "color_data = pd.read_csv(csvfile[\"color\"], header=0, usecols=[0, 1]).values.tolist()\n",
        "gt_data = pd.read_csv(csvfile[\"gt\"], header=0, usecols=[0, 1]).values.tolist()\n",
        "\n",
        "\n",
        "def download_color():\n",
        "    for item in color_data:\n",
        "        fname, url = item[0], item[1]\n",
        "        folder_path = os.path.join(root, fname)\n",
        "        download_v1(url, folder_path, \"color\")\n",
        "\n",
        "\n",
        "def download_gt():\n",
        "    for item in gt_data:\n",
        "        fname, url = item[0], item[1]\n",
        "        folder_path = os.path.join(root, fname)\n",
        "        download_v1(url, folder_path, \"groundtruth\")"
      ]
    },
    {
      "cell_type": "markdown",
      "metadata": {},
      "source": [
        "执行下载"
      ]
    },
    {
      "cell_type": "code",
      "execution_count": 10,
      "metadata": {},
      "outputs": [
        {
          "name": "stdout",
          "output_type": "stream",
          "text": [
            "airplane.zip exists and have totaly been downloaded!\n",
            "bag.zip exists and have totaly been downloaded!\n",
            "bicycle.zip exists and have totaly been downloaded!\n",
            "boat.zip exists and have totaly been downloaded!\n",
            "bottle.zip exists and have totaly been downloaded!\n",
            "bus.zip exists and have totaly been downloaded!\n",
            "car.zip exists and have totaly been downloaded!\n",
            "carchase.zip exists and have totaly been downloaded!\n",
            "cat.zip exists and have totaly been downloaded!\n",
            "coin.zip exists and have totaly been downloaded!\n",
            "dancingshoe.zip exists and have totaly been downloaded!\n",
            "diabolo.zip exists and have totaly been downloaded!\n",
            "diving.zip exists and have totaly been downloaded!\n",
            "dog1.zip exists and have totaly been downloaded!\n",
            "dog2.zip exists and have totaly been downloaded!\n",
            "drone.zip exists and have totaly been downloaded!\n",
            "duck.zip exists and have totaly been downloaded!\n",
            "elephant.zip exists and have totaly been downloaded!\n",
            "f1.zip exists and have totaly been downloaded!\n",
            "flag.zip exists and have totaly been downloaded!\n",
            "flyboard.zip exists and have totaly been downloaded!\n",
            "fox.zip exists and have totaly been downloaded!\n",
            "goldfish.zip exists and have totaly been downloaded!\n",
            "guineapig.zip exists and have totaly been downloaded!\n",
            "hand.zip exists and have totaly been downloaded!\n",
            "helicopter.zip exists and have totaly been downloaded!\n",
            "houseride.zip exists and have totaly been downloaded!\n",
            "kangaroo.zip exists and have totaly been downloaded!\n",
            "kit.zip exists and have totaly been downloaded!\n",
            "lantern.zip exists and have totaly been downloaded!\n",
            "licenseplate.zip exists and have totaly been downloaded!\n",
            "motorcycle.zip exists and have totaly been downloaded!\n",
            "panda.zip exists and have totaly been downloaded!\n",
            "parachute.zip downloaded: 0.00MB || Total size: 0.03MB || Remaining download rate 1.00\n"
          ]
        },
        {
          "name": "stderr",
          "output_type": "stream",
          "text": [
            "parachute.zip: 100%|██████████| 27.6k/27.6k [00:00<00:00, 91.0kB/s]\n"
          ]
        },
        {
          "name": "stdout",
          "output_type": "stream",
          "text": [
            "parkour.zip downloaded: 0.00MB || Total size: 0.03MB || Remaining download rate 1.00\n"
          ]
        },
        {
          "name": "stderr",
          "output_type": "stream",
          "text": [
            "parkour.zip: 100%|██████████| 33.9k/33.9k [00:00<00:00, 111kB/s] \n"
          ]
        },
        {
          "name": "stdout",
          "output_type": "stream",
          "text": [
            "parrot.zip downloaded: 0.00MB || Total size: 0.12MB || Remaining download rate 1.00\n"
          ]
        },
        {
          "name": "stderr",
          "output_type": "stream",
          "text": [
            "parrot.zip: 100%|██████████| 126k/126k [00:19<00:00, 6.49kB/s] \n"
          ]
        },
        {
          "name": "stdout",
          "output_type": "stream",
          "text": [
            "rabbit.zip downloaded: 0.00MB || Total size: 0.04MB || Remaining download rate 1.00\n"
          ]
        },
        {
          "name": "stderr",
          "output_type": "stream",
          "text": [
            "rabbit.zip: 100%|██████████| 40.9k/40.9k [00:00<00:00, 65.0kB/s]\n"
          ]
        },
        {
          "name": "stdout",
          "output_type": "stream",
          "text": [
            "rhino.zip downloaded: 0.00MB || Total size: 0.08MB || Remaining download rate 1.00\n"
          ]
        },
        {
          "name": "stderr",
          "output_type": "stream",
          "text": [
            "rhino.zip: 100%|██████████| 86.1k/86.1k [00:00<00:00, 97.0kB/s]\n"
          ]
        },
        {
          "name": "stdout",
          "output_type": "stream",
          "text": [
            "robot.zip downloaded: 0.00MB || Total size: 0.06MB || Remaining download rate 1.00\n"
          ]
        },
        {
          "name": "stderr",
          "output_type": "stream",
          "text": [
            "robot.zip: 100%|██████████| 61.8k/61.8k [00:01<00:00, 41.4kB/s]\n"
          ]
        },
        {
          "name": "stdout",
          "output_type": "stream",
          "text": [
            "rollerman.zip downloaded: 0.00MB || Total size: 0.05MB || Remaining download rate 1.00\n"
          ]
        },
        {
          "name": "stderr",
          "output_type": "stream",
          "text": [
            "rollerman.zip: 100%|██████████| 50.0k/50.0k [00:00<00:00, 84.3kB/s]\n"
          ]
        },
        {
          "name": "stdout",
          "output_type": "stream",
          "text": [
            "run.zip downloaded: 0.00MB || Total size: 0.04MB || Remaining download rate 1.00\n"
          ]
        },
        {
          "name": "stderr",
          "output_type": "stream",
          "text": [
            "run.zip: 100%|██████████| 36.1k/36.1k [00:00<00:00, 119kB/s] \n"
          ]
        },
        {
          "name": "stdout",
          "output_type": "stream",
          "text": [
            "sailing.zip downloaded: 0.00MB || Total size: 0.04MB || Remaining download rate 1.00\n"
          ]
        },
        {
          "name": "stderr",
          "output_type": "stream",
          "text": [
            "sailing.zip: 100%|██████████| 39.5k/39.5k [00:05<00:00, 7.06kB/s]\n"
          ]
        },
        {
          "name": "stdout",
          "output_type": "stream",
          "text": [
            "seagull.zip downloaded: 0.00MB || Total size: 0.05MB || Remaining download rate 1.00\n"
          ]
        },
        {
          "name": "stderr",
          "output_type": "stream",
          "text": [
            "seagull.zip: 100%|██████████| 53.9k/53.9k [00:03<00:00, 18.4kB/s]\n"
          ]
        },
        {
          "name": "stdout",
          "output_type": "stream",
          "text": [
            "shark.zip downloaded: 0.00MB || Total size: 0.03MB || Remaining download rate 1.00\n"
          ]
        },
        {
          "name": "stderr",
          "output_type": "stream",
          "text": [
            "shark.zip: 100%|██████████| 35.4k/35.4k [00:00<00:00, 109kB/s] \n"
          ]
        },
        {
          "name": "stdout",
          "output_type": "stream",
          "text": [
            "skiing.zip downloaded: 0.00MB || Total size: 0.06MB || Remaining download rate 1.00\n"
          ]
        },
        {
          "name": "stderr",
          "output_type": "stream",
          "text": [
            "skiing.zip: 100%|██████████| 61.3k/61.3k [00:00<00:00, 100kB/s] \n"
          ]
        },
        {
          "name": "stdout",
          "output_type": "stream",
          "text": [
            "squirrel.zip downloaded: 0.00MB || Total size: 0.06MB || Remaining download rate 1.00\n"
          ]
        },
        {
          "name": "stderr",
          "output_type": "stream",
          "text": [
            "squirrel.zip: 100%|██████████| 58.5k/58.5k [00:00<00:00, 98.5kB/s]\n"
          ]
        },
        {
          "name": "stdout",
          "output_type": "stream",
          "text": [
            "surfing.zip downloaded: 0.00MB || Total size: 0.07MB || Remaining download rate 1.00\n"
          ]
        },
        {
          "name": "stderr",
          "output_type": "stream",
          "text": [
            "surfing.zip: 100%|██████████| 73.9k/73.9k [00:08<00:00, 9.35kB/s]\n"
          ]
        },
        {
          "name": "stdout",
          "output_type": "stream",
          "text": [
            "turkey.zip downloaded: 0.00MB || Total size: 0.04MB || Remaining download rate 1.00\n"
          ]
        },
        {
          "name": "stderr",
          "output_type": "stream",
          "text": [
            "turkey.zip: 100%|██████████| 41.8k/41.8k [00:04<00:00, 9.55kB/s]\n"
          ]
        },
        {
          "name": "stdout",
          "output_type": "stream",
          "text": [
            "volleyball.zip downloaded: 0.00MB || Total size: 0.02MB || Remaining download rate 1.00\n"
          ]
        },
        {
          "name": "stderr",
          "output_type": "stream",
          "text": [
            "volleyball.zip: 100%|██████████| 19.7k/19.7k [00:01<00:00, 19.0kB/s]\n"
          ]
        },
        {
          "name": "stdout",
          "output_type": "stream",
          "text": [
            "zebra.zip downloaded: 0.00MB || Total size: 0.04MB || Remaining download rate 1.00\n"
          ]
        },
        {
          "name": "stderr",
          "output_type": "stream",
          "text": [
            "zebra.zip: 100%|██████████| 40.2k/40.2k [00:00<00:00, 66.8kB/s]"
          ]
        },
        {
          "name": "stdout",
          "output_type": "stream",
          "text": [
            "Done, groundtruth.zip downloaded!\n"
          ]
        },
        {
          "name": "stderr",
          "output_type": "stream",
          "text": [
            "\n"
          ]
        }
      ],
      "source": [
        "download_gt()  # 下载 groundtruth.zip\n",
        "print(\"Done, groundtruth.zip downloaded!\")\n",
        "\n",
        "# download_color()  # 这里注释是为了方便之后演示，里面的文件太大\n",
        "# print(\"Done, color.zip downloaded!\")"
      ]
    },
    {
      "cell_type": "code",
      "execution_count": 11,
      "metadata": {},
      "outputs": [
        {
          "name": "stdout",
          "output_type": "stream",
          "text": [
            "Archive:  /home/guest/XieBailian/study/mytoolkits/VOT2022_LT/sequences/airplane/groundtruth.zip\n",
            " extracting: /home/guest/XieBailian/study/mytoolkits/VOT2022_LT/sequences/airplane/groundtruth.txt  \n",
            "Archive:  /home/guest/XieBailian/study/mytoolkits/VOT2022_LT/sequences/bag/groundtruth.zip\n",
            " extracting: /home/guest/XieBailian/study/mytoolkits/VOT2022_LT/sequences/bag/groundtruth.txt  \n",
            "Archive:  /home/guest/XieBailian/study/mytoolkits/VOT2022_LT/sequences/bicycle/groundtruth.zip\n",
            " extracting: /home/guest/XieBailian/study/mytoolkits/VOT2022_LT/sequences/bicycle/groundtruth.txt  \n",
            "Archive:  /home/guest/XieBailian/study/mytoolkits/VOT2022_LT/sequences/boat/groundtruth.zip\n",
            " extracting: /home/guest/XieBailian/study/mytoolkits/VOT2022_LT/sequences/boat/groundtruth.txt  \n",
            "Archive:  /home/guest/XieBailian/study/mytoolkits/VOT2022_LT/sequences/bottle/groundtruth.zip\n",
            " extracting: /home/guest/XieBailian/study/mytoolkits/VOT2022_LT/sequences/bottle/groundtruth.txt  \n",
            "Archive:  /home/guest/XieBailian/study/mytoolkits/VOT2022_LT/sequences/bus/groundtruth.zip\n",
            " extracting: /home/guest/XieBailian/study/mytoolkits/VOT2022_LT/sequences/bus/groundtruth.txt  \n",
            "Archive:  /home/guest/XieBailian/study/mytoolkits/VOT2022_LT/sequences/car/groundtruth.zip\n",
            " extracting: /home/guest/XieBailian/study/mytoolkits/VOT2022_LT/sequences/car/groundtruth.txt  \n",
            "Archive:  /home/guest/XieBailian/study/mytoolkits/VOT2022_LT/sequences/carchase/groundtruth.zip\n",
            " extracting: /home/guest/XieBailian/study/mytoolkits/VOT2022_LT/sequences/carchase/groundtruth.txt  \n",
            "Archive:  /home/guest/XieBailian/study/mytoolkits/VOT2022_LT/sequences/cat/groundtruth.zip\n",
            " extracting: /home/guest/XieBailian/study/mytoolkits/VOT2022_LT/sequences/cat/groundtruth.txt  \n",
            "Archive:  /home/guest/XieBailian/study/mytoolkits/VOT2022_LT/sequences/coin/groundtruth.zip\n",
            " extracting: /home/guest/XieBailian/study/mytoolkits/VOT2022_LT/sequences/coin/groundtruth.txt  \n",
            "Archive:  /home/guest/XieBailian/study/mytoolkits/VOT2022_LT/sequences/dancingshoe/groundtruth.zip\n",
            " extracting: /home/guest/XieBailian/study/mytoolkits/VOT2022_LT/sequences/dancingshoe/groundtruth.txt  \n",
            "Archive:  /home/guest/XieBailian/study/mytoolkits/VOT2022_LT/sequences/diabolo/groundtruth.zip\n",
            " extracting: /home/guest/XieBailian/study/mytoolkits/VOT2022_LT/sequences/diabolo/groundtruth.txt  \n",
            "Archive:  /home/guest/XieBailian/study/mytoolkits/VOT2022_LT/sequences/diving/groundtruth.zip\n",
            " extracting: /home/guest/XieBailian/study/mytoolkits/VOT2022_LT/sequences/diving/groundtruth.txt  \n",
            "Archive:  /home/guest/XieBailian/study/mytoolkits/VOT2022_LT/sequences/dog1/groundtruth.zip\n",
            " extracting: /home/guest/XieBailian/study/mytoolkits/VOT2022_LT/sequences/dog1/groundtruth.txt  \n",
            "Archive:  /home/guest/XieBailian/study/mytoolkits/VOT2022_LT/sequences/dog2/groundtruth.zip\n",
            " extracting: /home/guest/XieBailian/study/mytoolkits/VOT2022_LT/sequences/dog2/groundtruth.txt  \n",
            "Archive:  /home/guest/XieBailian/study/mytoolkits/VOT2022_LT/sequences/drone/groundtruth.zip\n",
            " extracting: /home/guest/XieBailian/study/mytoolkits/VOT2022_LT/sequences/drone/groundtruth.txt  \n",
            "Archive:  /home/guest/XieBailian/study/mytoolkits/VOT2022_LT/sequences/duck/groundtruth.zip\n",
            " extracting: /home/guest/XieBailian/study/mytoolkits/VOT2022_LT/sequences/duck/groundtruth.txt  \n",
            "Archive:  /home/guest/XieBailian/study/mytoolkits/VOT2022_LT/sequences/elephant/groundtruth.zip\n",
            " extracting: /home/guest/XieBailian/study/mytoolkits/VOT2022_LT/sequences/elephant/groundtruth.txt  \n",
            "Archive:  /home/guest/XieBailian/study/mytoolkits/VOT2022_LT/sequences/f1/groundtruth.zip\n",
            " extracting: /home/guest/XieBailian/study/mytoolkits/VOT2022_LT/sequences/f1/groundtruth.txt  \n",
            "Archive:  /home/guest/XieBailian/study/mytoolkits/VOT2022_LT/sequences/flag/groundtruth.zip\n",
            " extracting: /home/guest/XieBailian/study/mytoolkits/VOT2022_LT/sequences/flag/groundtruth.txt  \n",
            "Archive:  /home/guest/XieBailian/study/mytoolkits/VOT2022_LT/sequences/flyboard/groundtruth.zip\n",
            " extracting: /home/guest/XieBailian/study/mytoolkits/VOT2022_LT/sequences/flyboard/groundtruth.txt  \n",
            "Archive:  /home/guest/XieBailian/study/mytoolkits/VOT2022_LT/sequences/fox/groundtruth.zip\n",
            " extracting: /home/guest/XieBailian/study/mytoolkits/VOT2022_LT/sequences/fox/groundtruth.txt  \n",
            "Archive:  /home/guest/XieBailian/study/mytoolkits/VOT2022_LT/sequences/goldfish/groundtruth.zip\n",
            " extracting: /home/guest/XieBailian/study/mytoolkits/VOT2022_LT/sequences/goldfish/groundtruth.txt  \n",
            "Archive:  /home/guest/XieBailian/study/mytoolkits/VOT2022_LT/sequences/guineapig/groundtruth.zip\n",
            " extracting: /home/guest/XieBailian/study/mytoolkits/VOT2022_LT/sequences/guineapig/groundtruth.txt  \n",
            "Archive:  /home/guest/XieBailian/study/mytoolkits/VOT2022_LT/sequences/hand/groundtruth.zip\n",
            " extracting: /home/guest/XieBailian/study/mytoolkits/VOT2022_LT/sequences/hand/groundtruth.txt  \n",
            "Archive:  /home/guest/XieBailian/study/mytoolkits/VOT2022_LT/sequences/helicopter/groundtruth.zip\n",
            " extracting: /home/guest/XieBailian/study/mytoolkits/VOT2022_LT/sequences/helicopter/groundtruth.txt  \n",
            "Archive:  /home/guest/XieBailian/study/mytoolkits/VOT2022_LT/sequences/houseride/groundtruth.zip\n",
            " extracting: /home/guest/XieBailian/study/mytoolkits/VOT2022_LT/sequences/houseride/groundtruth.txt  \n",
            "Archive:  /home/guest/XieBailian/study/mytoolkits/VOT2022_LT/sequences/kangaroo/groundtruth.zip\n",
            " extracting: /home/guest/XieBailian/study/mytoolkits/VOT2022_LT/sequences/kangaroo/groundtruth.txt  \n",
            "Archive:  /home/guest/XieBailian/study/mytoolkits/VOT2022_LT/sequences/kit/groundtruth.zip\n",
            " extracting: /home/guest/XieBailian/study/mytoolkits/VOT2022_LT/sequences/kit/groundtruth.txt  \n",
            "Archive:  /home/guest/XieBailian/study/mytoolkits/VOT2022_LT/sequences/lantern/groundtruth.zip\n",
            " extracting: /home/guest/XieBailian/study/mytoolkits/VOT2022_LT/sequences/lantern/groundtruth.txt  \n",
            "Archive:  /home/guest/XieBailian/study/mytoolkits/VOT2022_LT/sequences/licenseplate/groundtruth.zip\n",
            " extracting: /home/guest/XieBailian/study/mytoolkits/VOT2022_LT/sequences/licenseplate/groundtruth.txt  \n",
            "Archive:  /home/guest/XieBailian/study/mytoolkits/VOT2022_LT/sequences/motorcycle/groundtruth.zip\n",
            " extracting: /home/guest/XieBailian/study/mytoolkits/VOT2022_LT/sequences/motorcycle/groundtruth.txt  \n",
            "Archive:  /home/guest/XieBailian/study/mytoolkits/VOT2022_LT/sequences/panda/groundtruth.zip\n",
            " extracting: /home/guest/XieBailian/study/mytoolkits/VOT2022_LT/sequences/panda/groundtruth.txt  \n",
            "Archive:  /home/guest/XieBailian/study/mytoolkits/VOT2022_LT/sequences/parachute/groundtruth.zip\n",
            " extracting: /home/guest/XieBailian/study/mytoolkits/VOT2022_LT/sequences/parachute/groundtruth.txt  \n",
            "Archive:  /home/guest/XieBailian/study/mytoolkits/VOT2022_LT/sequences/parkour/groundtruth.zip\n",
            " extracting: /home/guest/XieBailian/study/mytoolkits/VOT2022_LT/sequences/parkour/groundtruth.txt  \n",
            "Archive:  /home/guest/XieBailian/study/mytoolkits/VOT2022_LT/sequences/parrot/groundtruth.zip\n",
            " extracting: /home/guest/XieBailian/study/mytoolkits/VOT2022_LT/sequences/parrot/groundtruth.txt  \n",
            "Archive:  /home/guest/XieBailian/study/mytoolkits/VOT2022_LT/sequences/rabbit/groundtruth.zip\n",
            " extracting: /home/guest/XieBailian/study/mytoolkits/VOT2022_LT/sequences/rabbit/groundtruth.txt  \n",
            "Archive:  /home/guest/XieBailian/study/mytoolkits/VOT2022_LT/sequences/rhino/groundtruth.zip\n",
            " extracting: /home/guest/XieBailian/study/mytoolkits/VOT2022_LT/sequences/rhino/groundtruth.txt  \n",
            "Archive:  /home/guest/XieBailian/study/mytoolkits/VOT2022_LT/sequences/robot/groundtruth.zip\n",
            " extracting: /home/guest/XieBailian/study/mytoolkits/VOT2022_LT/sequences/robot/groundtruth.txt  \n",
            "Archive:  /home/guest/XieBailian/study/mytoolkits/VOT2022_LT/sequences/rollerman/groundtruth.zip\n",
            " extracting: /home/guest/XieBailian/study/mytoolkits/VOT2022_LT/sequences/rollerman/groundtruth.txt  \n",
            "Archive:  /home/guest/XieBailian/study/mytoolkits/VOT2022_LT/sequences/run/groundtruth.zip\n",
            " extracting: /home/guest/XieBailian/study/mytoolkits/VOT2022_LT/sequences/run/groundtruth.txt  \n",
            "Archive:  /home/guest/XieBailian/study/mytoolkits/VOT2022_LT/sequences/sailing/groundtruth.zip\n",
            " extracting: /home/guest/XieBailian/study/mytoolkits/VOT2022_LT/sequences/sailing/groundtruth.txt  \n",
            "Archive:  /home/guest/XieBailian/study/mytoolkits/VOT2022_LT/sequences/seagull/groundtruth.zip\n",
            " extracting: /home/guest/XieBailian/study/mytoolkits/VOT2022_LT/sequences/seagull/groundtruth.txt  \n",
            "Archive:  /home/guest/XieBailian/study/mytoolkits/VOT2022_LT/sequences/shark/groundtruth.zip\n",
            " extracting: /home/guest/XieBailian/study/mytoolkits/VOT2022_LT/sequences/shark/groundtruth.txt  \n",
            "Archive:  /home/guest/XieBailian/study/mytoolkits/VOT2022_LT/sequences/skiing/groundtruth.zip\n",
            " extracting: /home/guest/XieBailian/study/mytoolkits/VOT2022_LT/sequences/skiing/groundtruth.txt  \n",
            "Archive:  /home/guest/XieBailian/study/mytoolkits/VOT2022_LT/sequences/squirrel/groundtruth.zip\n",
            " extracting: /home/guest/XieBailian/study/mytoolkits/VOT2022_LT/sequences/squirrel/groundtruth.txt  \n",
            "Archive:  /home/guest/XieBailian/study/mytoolkits/VOT2022_LT/sequences/surfing/groundtruth.zip\n",
            " extracting: /home/guest/XieBailian/study/mytoolkits/VOT2022_LT/sequences/surfing/groundtruth.txt  \n",
            "Archive:  /home/guest/XieBailian/study/mytoolkits/VOT2022_LT/sequences/turkey/groundtruth.zip\n",
            " extracting: /home/guest/XieBailian/study/mytoolkits/VOT2022_LT/sequences/turkey/groundtruth.txt  \n",
            "Archive:  /home/guest/XieBailian/study/mytoolkits/VOT2022_LT/sequences/volleyball/groundtruth.zip\n",
            " extracting: /home/guest/XieBailian/study/mytoolkits/VOT2022_LT/sequences/volleyball/groundtruth.txt  \n",
            "Archive:  /home/guest/XieBailian/study/mytoolkits/VOT2022_LT/sequences/zebra/groundtruth.zip\n",
            " extracting: /home/guest/XieBailian/study/mytoolkits/VOT2022_LT/sequences/zebra/groundtruth.txt  \n"
          ]
        }
      ],
      "source": [
        "# 解压文件\n",
        "!./traverse.sh"
      ]
    },
    {
      "cell_type": "markdown",
      "metadata": {},
      "source": [
        "安装 `tree` 工具：`sudo apt-get install tree -y` ."
      ]
    },
    {
      "cell_type": "code",
      "execution_count": 13,
      "metadata": {},
      "outputs": [
        {
          "name": "stdout",
          "output_type": "stream",
          "text": [
            "./VOT2022_LT\n",
            "└── sequences\n",
            "    ├── airplane\n",
            "    │   ├── groundtruth.txt\n",
            "    │   └── groundtruth.zip\n",
            "    ├── bag\n",
            "    │   ├── groundtruth.txt\n",
            "    │   └── groundtruth.zip\n",
            "    ├── bicycle\n",
            "    │   ├── groundtruth.txt\n",
            "    │   └── groundtruth.zip\n",
            "    ├── boat\n",
            "    │   ├── groundtruth.txt\n",
            "    │   └── groundtruth.zip\n",
            "    ├── bottle\n",
            "    │   ├── groundtruth.txt\n",
            "    │   └── groundtruth.zip\n",
            "    ├── bus\n",
            "    │   ├── groundtruth.txt\n",
            "    │   └── groundtruth.zip\n",
            "    ├── car\n",
            "    │   ├── groundtruth.txt\n",
            "    │   └── groundtruth.zip\n",
            "    ├── carchase\n",
            "    │   ├── groundtruth.txt\n",
            "    │   └── groundtruth.zip\n",
            "    ├── cat\n",
            "    │   ├── groundtruth.txt\n",
            "    │   └── groundtruth.zip\n",
            "    ├── coin\n",
            "    │   ├── groundtruth.txt\n",
            "    │   └── groundtruth.zip\n",
            "    ├── dancingshoe\n",
            "    │   ├── groundtruth.txt\n",
            "    │   └── groundtruth.zip\n",
            "    ├── diabolo\n",
            "    │   ├── groundtruth.txt\n",
            "    │   └── groundtruth.zip\n",
            "    ├── diving\n",
            "    │   ├── groundtruth.txt\n",
            "    │   └── groundtruth.zip\n",
            "    ├── dog1\n",
            "    │   ├── groundtruth.txt\n",
            "    │   └── groundtruth.zip\n",
            "    ├── dog2\n",
            "    │   ├── groundtruth.txt\n",
            "    │   └── groundtruth.zip\n",
            "    ├── drone\n",
            "    │   ├── groundtruth.txt\n",
            "    │   └── groundtruth.zip\n",
            "    ├── duck\n",
            "    │   ├── groundtruth.txt\n",
            "    │   └── groundtruth.zip\n",
            "    ├── elephant\n",
            "    │   ├── groundtruth.txt\n",
            "    │   └── groundtruth.zip\n",
            "    ├── f1\n",
            "    │   ├── groundtruth.txt\n",
            "    │   └── groundtruth.zip\n",
            "    ├── flag\n",
            "    │   ├── groundtruth.txt\n",
            "    │   └── groundtruth.zip\n",
            "    ├── flyboard\n",
            "    │   ├── groundtruth.txt\n",
            "    │   └── groundtruth.zip\n",
            "    ├── fox\n",
            "    │   ├── groundtruth.txt\n",
            "    │   └── groundtruth.zip\n",
            "    ├── goldfish\n",
            "    │   ├── groundtruth.txt\n",
            "    │   └── groundtruth.zip\n",
            "    ├── guineapig\n",
            "    │   ├── groundtruth.txt\n",
            "    │   └── groundtruth.zip\n",
            "    ├── hand\n",
            "    │   ├── groundtruth.txt\n",
            "    │   └── groundtruth.zip\n",
            "    ├── helicopter\n",
            "    │   ├── groundtruth.txt\n",
            "    │   └── groundtruth.zip\n",
            "    ├── houseride\n",
            "    │   ├── groundtruth.txt\n",
            "    │   └── groundtruth.zip\n",
            "    ├── kangaroo\n",
            "    │   ├── groundtruth.txt\n",
            "    │   └── groundtruth.zip\n",
            "    ├── kit\n",
            "    │   ├── groundtruth.txt\n",
            "    │   └── groundtruth.zip\n",
            "    ├── lantern\n",
            "    │   ├── groundtruth.txt\n",
            "    │   └── groundtruth.zip\n",
            "    ├── licenseplate\n",
            "    │   ├── groundtruth.txt\n",
            "    │   └── groundtruth.zip\n",
            "    ├── motorcycle\n",
            "    │   ├── groundtruth.txt\n",
            "    │   └── groundtruth.zip\n",
            "    ├── panda\n",
            "    │   ├── groundtruth.txt\n",
            "    │   └── groundtruth.zip\n",
            "    ├── parachute\n",
            "    │   ├── groundtruth.txt\n",
            "    │   └── groundtruth.zip\n",
            "    ├── parkour\n",
            "    │   ├── groundtruth.txt\n",
            "    │   └── groundtruth.zip\n",
            "    ├── parrot\n",
            "    │   ├── groundtruth.txt\n",
            "    │   └── groundtruth.zip\n",
            "    ├── rabbit\n",
            "    │   ├── groundtruth.txt\n",
            "    │   └── groundtruth.zip\n",
            "    ├── rhino\n",
            "    │   ├── groundtruth.txt\n",
            "    │   └── groundtruth.zip\n",
            "    ├── robot\n",
            "    │   ├── groundtruth.txt\n",
            "    │   └── groundtruth.zip\n",
            "    ├── rollerman\n",
            "    │   ├── groundtruth.txt\n",
            "    │   └── groundtruth.zip\n",
            "    ├── run\n",
            "    │   ├── groundtruth.txt\n",
            "    │   └── groundtruth.zip\n",
            "    ├── sailing\n",
            "    │   ├── groundtruth.txt\n",
            "    │   └── groundtruth.zip\n",
            "    ├── seagull\n",
            "    │   ├── groundtruth.txt\n",
            "    │   └── groundtruth.zip\n",
            "    ├── shark\n",
            "    │   ├── groundtruth.txt\n",
            "    │   └── groundtruth.zip\n",
            "    ├── skiing\n",
            "    │   ├── groundtruth.txt\n",
            "    │   └── groundtruth.zip\n",
            "    ├── squirrel\n",
            "    │   ├── groundtruth.txt\n",
            "    │   └── groundtruth.zip\n",
            "    ├── surfing\n",
            "    │   ├── groundtruth.txt\n",
            "    │   └── groundtruth.zip\n",
            "    ├── turkey\n",
            "    │   ├── groundtruth.txt\n",
            "    │   └── groundtruth.zip\n",
            "    ├── volleyball\n",
            "    │   ├── groundtruth.txt\n",
            "    │   └── groundtruth.zip\n",
            "    └── zebra\n",
            "        ├── groundtruth.txt\n",
            "        └── groundtruth.zip\n",
            "\n",
            "51 directories, 100 files\n"
          ]
        }
      ],
      "source": [
        "# 查看当前目录结构\n",
        "!tree ./VOT2022_LT -L 4"
      ]
    },
    {
      "cell_type": "markdown",
      "metadata": {},
      "source": [
        "可以看到有 `100` 个文件（50 个 `zip`，50 个 `.txt`）\n",
        "\n",
        "在执行以下命令删除压缩包之前，最好先保存一份，毕竟压缩包还是挺大的，防止意外发生。"
      ]
    },
    {
      "cell_type": "code",
      "execution_count": null,
      "metadata": {},
      "outputs": [],
      "source": [
        "# 删除当前目录中所有的 .zip 文件！！！这里需要谨慎操作\n",
        "# !find -name \"groundtruth.zip\" | xargs rm -r\n",
        "# !find -name \"color.zip\" | xargs rm -r\n",
        "\n",
        "# 也可以一次删除\n",
        "# !find -name \"*.zip\" | xargs rm -r"
      ]
    },
    {
      "cell_type": "markdown",
      "metadata": {},
      "source": [
        "`Python` 爬虫教程：http://c.biancheng.net/view/2011.html\n",
        "\n",
        "`Python` 文件读写：\n",
        "  - http://www.itheima.com/news/20210412/113009.html\n",
        "  - https://www.cnblogs.com/zdz8207/p/python-updateFile-re-sub.html\n"
      ]
    },
    {
      "cell_type": "markdown",
      "metadata": {},
      "source": [
        "`VOT2022-LT`: https://data.votchallenge.net/vot2022/lt/description.json\n",
        "\n",
        "`sequence` 文件：\n",
        "```\n",
        "channels.color=color/%08d.jpg\n",
        "format=default\n",
        "fps=30\n",
        "name=agility\n",
        "\n",
        "```"
      ]
    },
    {
      "cell_type": "code",
      "execution_count": 18,
      "metadata": {},
      "outputs": [],
      "source": [
        "root = r\"./VOT2022_LT/sequences\"\n",
        "sequence = [\"channels.color=color/%08d.jpg\\r\\n\", \"format=default\\r\\n\", \"fps=30\\r\\n\"]\n",
        "\n",
        "# 测试代码\n",
        "# fsequence = \"./test.txt\"\n",
        "# fsequence = open(fsequence, encoding=\"utf-8\", mode=\"w\")\n",
        "# fsequence.writelines(sequence)\n",
        "# fsequence.flush()\n",
        "# fsequence.close()\n",
        "\n",
        "## 添加 list.txt 文件\n",
        "def write2list():\n",
        "    if not os.path.exists(root):\n",
        "        os.makedirs(root)\n",
        "    flist = os.path.join(root, \"list.txt\")\n",
        "\n",
        "    with open(flist, \"w\") as fl:\n",
        "        fl.writelines([fname + \"\\n\" for fname in fnames])\n",
        "\n",
        "\n",
        "def write2squence():\n",
        "    for fname in fnames:\n",
        "        ## 添加 sequence 文件\n",
        "        fsequence = os.path.join(root, fname, \"sequence\")\n",
        "        # print(fsequence)\n",
        "        if not os.path.exists(fsequence):\n",
        "            fsequence = open(fsequence, encoding=\"utf-8\", mode=\"w\")\n",
        "            fsequence.writelines(sequence)\n",
        "            fsequence.writelines(f\"name={fname}\\r\\n\")\n",
        "            fsequence.flush()\n",
        "            fsequence.close()"
      ]
    },
    {
      "cell_type": "code",
      "execution_count": 19,
      "metadata": {},
      "outputs": [],
      "source": [
        "write2list()\n",
        "# write2squence()"
      ]
    },
    {
      "cell_type": "code",
      "execution_count": null,
      "metadata": {},
      "outputs": [],
      "source": [
        "!tree -L 4"
      ]
    },
    {
      "cell_type": "markdown",
      "metadata": {},
      "source": [
        "## 补充：有关多进程下载以及下载进度条显示"
      ]
    },
    {
      "cell_type": "markdown",
      "metadata": {},
      "source": [
        "## 一、下载进度条显示"
      ]
    },
    {
      "cell_type": "markdown",
      "metadata": {},
      "source": [
        "### Python tqdm 工具包使用\n",
        "\n",
        "> 官网：https://pypi.org/project/tqdm/#examples-and-advanced-usage\n",
        "\n",
        "> 有关 `tqdm` 用法参考链接：https://pypi.org/project/tqdm/#examples-and-advanced-usage\n",
        "\n",
        "\n",
        "```python\n",
        "import urllib, os\n",
        "from tqdm import tqdm\n",
        "\n",
        "eg_link = \"https://caspersci.uk.to/matryoshka.zip\"\n",
        "response = getattr(urllib, 'request', urllib).urlopen(eg_link)\n",
        "with tqdm.wrapattr(open(os.devnull, \"wb\"), \"write\",\n",
        "                   miniters=1, desc=eg_link.split('/')[-1],\n",
        "                   total=getattr(response, 'length', None)) as fout:\n",
        "    for chunk in response:\n",
        "        fout.write(chunk)\n",
        "```\n",
        "\n",
        "还可以使用：\n",
        "```python\n",
        "import requests, os\n",
        "from tqdm import tqdm\n",
        "\n",
        "eg_link = \"https://caspersci.uk.to/matryoshka.zip\"\n",
        "response = requests.get(eg_link, stream=True)\n",
        "with tqdm.wrapattr(open(os.devnull, \"wb\"), \"write\",\n",
        "                   miniters=1, desc=eg_link.split('/')[-1],\n",
        "                   total=int(response.headers.get('content-length', 0))) as fout:\n",
        "    for chunk in response.iter_content(chunk_size=4096):\n",
        "        fout.write(chunk)\n",
        "```"
      ]
    },
    {
      "cell_type": "markdown",
      "metadata": {},
      "source": [
        "## 二、Python 多进程下载"
      ]
    },
    {
      "cell_type": "markdown",
      "metadata": {},
      "source": [
        "## 三、使用 `MD5` 进行文件完整性校验\n",
        "\n",
        "`MD5` 是一种数据加密手段，但可以通过该值进行完整性校验。\n",
        "\n",
        "> 参考链接：https://blog.csdn.net/python_neophyte/article/details/102645477\n",
        "\n",
        "```python\n",
        "import hashlib\n",
        "import os\n",
        "\n",
        "\n",
        "f_path = input('File path: ')\n",
        "SETUP_FILE = [file for file in os.listdir(f_path) if os.path.splitext(file)[1] == '.bin' or\n",
        "              (os.path.splitext(file)[1] == '.exe' and '%' not in os.path.splitext(file)[0])]\n",
        "MD5_FILE = [file for file in os.listdir(f_path) if os.path.splitext(file)[1] == '.md5']\n",
        "\n",
        "print('所有安装文件：', SETUP_FILE)\n",
        "print('MD5储存文件：', MD5_FILE)\n",
        "\n",
        "\n",
        "def get_correct_md5():\n",
        "    all_md5 = []\n",
        "\n",
        "    for file in MD5_FILE:\n",
        "        with open(os.path.join(f_path, file)) as f:\n",
        "            data = f.readlines()\n",
        "        all_md5.extend(data)\n",
        "\n",
        "    return all_md5\n",
        "\n",
        "def get_file_md5(file):\n",
        "    full_file_path = os.path.join(f_path, file)\n",
        "    m = hashlib.md5()\n",
        "    file_size = '{:.2f}'.format(os.path.getsize(full_file_path) / (1024 ** 2))\n",
        "    print('正在验证文件名称：%s， 文件大小：%s Mb' % (file, file_size))\n",
        "    with open(full_file_path, 'rb') as f:\n",
        "        while True:\n",
        "            data = f.read(99999999)\n",
        "            print('验证速度：%.2f Mb/s' % (len(data) / (1024 ** 2)), end='\\r')\n",
        "            if not data:\n",
        "                break\n",
        "            m.update(data)\n",
        "    file_md5 = m.hexdigest().upper()\n",
        "\n",
        "    return file_md5\n",
        "\n",
        "\n",
        "def main():\n",
        "    all_md5 = get_correct_md5()\n",
        "    bad_file = 0\n",
        "    print('开始验证：')\n",
        "    for file in SETUP_FILE:\n",
        "        md5 = get_file_md5(file)\n",
        "        for m in all_md5:\n",
        "            if file in m:\n",
        "                m = m.split(' ')\n",
        "                if md5 == m[0]:\n",
        "                    print(file, '\\n验证通过！\\n')\n",
        "                    break\n",
        "                else:\n",
        "                    print(file, '\\n文件损坏！\\n')\n",
        "                    bad_file += 1\n",
        "                    break\n",
        "        else:\n",
        "            print('此文件没有找到对应的md5，因此跳过验证。')\n",
        "\n",
        "    print('所有文件验证完成！')\n",
        "\n",
        "    if bad_file != 0:\n",
        "        print('共有 %s 个文件损坏，请重新下载损坏文件！' % bad_file)\n",
        "    else:\n",
        "        print('所有文件全部通过验证，可以直接安装！')\n",
        "\n",
        "    return\n",
        "\n",
        "\n",
        "main()\n",
        "```"
      ]
    },
    {
      "cell_type": "markdown",
      "metadata": {},
      "source": [
        "## `Git` 使用教程\n",
        "\n",
        "- VSCode上传本地项目到github https://www.cxyzjd.com/article/Le___Le/103585617\n",
        "- https://blog.csdn.net/qq_32578989/article/details/87994300\n",
        "\n",
        "### Step1: 在 GitHub 创建一个新的仓库，用于存储要提交的项目\n",
        "```bash\n",
        "cd workspace\n",
        "```\n",
        "\n",
        "### Step2: 与 GitHub 远程仓库建立联系\n",
        "```bash\n",
        "git init\n",
        "git remote rm origin\n",
        "git remote add origin https://github.com/blainetse/dataset_toolkits.git [ssh/https地址（要保存在 GitHub 的仓库位置）]\n",
        "git remote -v  # 查看状态\n",
        "```\n",
        "\n",
        "### Step3: push 到主分支\n",
        "```bash\n",
        "git pull origin master\n",
        "```\n",
        "\n",
        "注意：如果项目里已经有东西了，就可能会出现什么远程仓库和本地仓库不相关的错误，所以要\n",
        "```shell\n",
        "git pull origin master --allow-unrelated-histories\n",
        "```\n",
        "将 README等已有的文件强行拉下来！\n",
        "\n",
        "```bash\n",
        "git commit -m 注释内容——说明提交的状态等信息，字符串格式\n",
        "```\n",
        "\n",
        "如果有什么 nothing added to commit but untracked files present 的事，就直接 git add xxx.txt 或者 git add xxx/ 或者直接 git add -A 加所有，再 commit \n",
        "\n",
        "然后再 push 上去，git push -u origin master"
      ]
    },
    {
      "cell_type": "markdown",
      "metadata": {},
      "source": [
        "## `Git` 配置问题记录\n",
        "\n",
        "`ERROR: Repository not found. Fatal: Could not read from remote repository.`\n",
        "  - https://blog.csdn.net/weixin_40886892/article/details/80725071"
      ]
    },
    {
      "cell_type": "code",
      "execution_count": null,
      "metadata": {},
      "outputs": [],
      "source": []
    }
  ],
  "metadata": {
    "interpreter": {
      "hash": "126376e67ac31299ba7cb89dcee7fcce5154bdeb432d12aa169075a6fbbc0094"
    },
    "kernelspec": {
      "display_name": "Python 3.8.12 ('d2l')",
      "language": "python",
      "name": "python3"
    },
    "language_info": {
      "codemirror_mode": {
        "name": "ipython",
        "version": 3
      },
      "file_extension": ".py",
      "mimetype": "text/x-python",
      "name": "python",
      "nbconvert_exporter": "python",
      "pygments_lexer": "ipython3",
      "version": "3.8.12"
    },
    "orig_nbformat": 4
  },
  "nbformat": 4,
  "nbformat_minor": 2
}
